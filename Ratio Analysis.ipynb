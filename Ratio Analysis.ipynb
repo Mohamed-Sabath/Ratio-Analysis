{
 "cells": [
  {
   "cell_type": "code",
   "execution_count": 1,
   "id": "2d745eb8",
   "metadata": {},
   "outputs": [],
   "source": [
    "import numpy as np\n",
    "import pandas as pd\n",
    "import matplotlib.pyplot as plt"
   ]
  },
  {
   "cell_type": "code",
   "execution_count": 2,
   "id": "76e466d0",
   "metadata": {},
   "outputs": [
    {
     "data": {
      "text/html": [
       "<div>\n",
       "<style scoped>\n",
       "    .dataframe tbody tr th:only-of-type {\n",
       "        vertical-align: middle;\n",
       "    }\n",
       "\n",
       "    .dataframe tbody tr th {\n",
       "        vertical-align: top;\n",
       "    }\n",
       "\n",
       "    .dataframe thead th {\n",
       "        text-align: right;\n",
       "    }\n",
       "</style>\n",
       "<table border=\"1\" class=\"dataframe\">\n",
       "  <thead>\n",
       "    <tr style=\"text-align: right;\">\n",
       "      <th></th>\n",
       "      <th>2023</th>\n",
       "      <th>2022</th>\n",
       "    </tr>\n",
       "    <tr>\n",
       "      <th>For the year ended 31st March</th>\n",
       "      <th></th>\n",
       "      <th></th>\n",
       "    </tr>\n",
       "  </thead>\n",
       "  <tbody>\n",
       "    <tr>\n",
       "      <th>NaN</th>\n",
       "      <td>Rs. '000</td>\n",
       "      <td>Rs. '000</td>\n",
       "    </tr>\n",
       "    <tr>\n",
       "      <th>Revenue</th>\n",
       "      <td>608270</td>\n",
       "      <td>497642</td>\n",
       "    </tr>\n",
       "    <tr>\n",
       "      <th>Cost of sales</th>\n",
       "      <td>467357</td>\n",
       "      <td>379217</td>\n",
       "    </tr>\n",
       "    <tr>\n",
       "      <th>Direct interest cost</th>\n",
       "      <td>NaN</td>\n",
       "      <td>NaN</td>\n",
       "    </tr>\n",
       "    <tr>\n",
       "      <th>Gross profit</th>\n",
       "      <td>140913</td>\n",
       "      <td>118425</td>\n",
       "    </tr>\n",
       "    <tr>\n",
       "      <th>Group dividend</th>\n",
       "      <td>5897496</td>\n",
       "      <td>5145509</td>\n",
       "    </tr>\n",
       "    <tr>\n",
       "      <th>Other income</th>\n",
       "      <td>NaN</td>\n",
       "      <td>13111</td>\n",
       "    </tr>\n",
       "    <tr>\n",
       "      <th>Distribution expenses</th>\n",
       "      <td>NaN</td>\n",
       "      <td>NaN</td>\n",
       "    </tr>\n",
       "    <tr>\n",
       "      <th>Administrative expenses</th>\n",
       "      <td>721291</td>\n",
       "      <td>257512</td>\n",
       "    </tr>\n",
       "    <tr>\n",
       "      <th>Other expenses</th>\n",
       "      <td>306</td>\n",
       "      <td>6089</td>\n",
       "    </tr>\n",
       "    <tr>\n",
       "      <th>Results from operating activities</th>\n",
       "      <td>6759394</td>\n",
       "      <td>5528468</td>\n",
       "    </tr>\n",
       "    <tr>\n",
       "      <th>Finance income</th>\n",
       "      <td>609056</td>\n",
       "      <td>188410</td>\n",
       "    </tr>\n",
       "    <tr>\n",
       "      <th>Finance cost</th>\n",
       "      <td>5276184</td>\n",
       "      <td>2219372</td>\n",
       "    </tr>\n",
       "    <tr>\n",
       "      <th>Net finance cost</th>\n",
       "      <td>4667128</td>\n",
       "      <td>2030962</td>\n",
       "    </tr>\n",
       "    <tr>\n",
       "      <th>Change in fair value of investment properties</th>\n",
       "      <td>5900</td>\n",
       "      <td>9250</td>\n",
       "    </tr>\n",
       "    <tr>\n",
       "      <th>Share of profit of equity accounted investees (net of tax)</th>\n",
       "      <td>NaN</td>\n",
       "      <td>NaN</td>\n",
       "    </tr>\n",
       "    <tr>\n",
       "      <th>Value added tax on financial services</th>\n",
       "      <td>NaN</td>\n",
       "      <td>NaN</td>\n",
       "    </tr>\n",
       "    <tr>\n",
       "      <th>Profit before tax</th>\n",
       "      <td>2098166</td>\n",
       "      <td>3506756</td>\n",
       "    </tr>\n",
       "    <tr>\n",
       "      <th>Tax expense</th>\n",
       "      <td>197146</td>\n",
       "      <td>139979</td>\n",
       "    </tr>\n",
       "    <tr>\n",
       "      <th>Profit for the year</th>\n",
       "      <td>1901020</td>\n",
       "      <td>3646735</td>\n",
       "    </tr>\n",
       "    <tr>\n",
       "      <th>Profit for the period attributable to:</th>\n",
       "      <td>NaN</td>\n",
       "      <td>NaN</td>\n",
       "    </tr>\n",
       "    <tr>\n",
       "      <th>Owners of the parent</th>\n",
       "      <td>1901020</td>\n",
       "      <td>3646735</td>\n",
       "    </tr>\n",
       "    <tr>\n",
       "      <th>Non-controlling interest</th>\n",
       "      <td>NaN</td>\n",
       "      <td>NaN</td>\n",
       "    </tr>\n",
       "    <tr>\n",
       "      <th>Profit for the year</th>\n",
       "      <td>1901020</td>\n",
       "      <td>3646735</td>\n",
       "    </tr>\n",
       "    <tr>\n",
       "      <th>Earnings per share</th>\n",
       "      <td>NaN</td>\n",
       "      <td>NaN</td>\n",
       "    </tr>\n",
       "    <tr>\n",
       "      <th>Basic - (Rs.)</th>\n",
       "      <td>2.53</td>\n",
       "      <td>4.86</td>\n",
       "    </tr>\n",
       "    <tr>\n",
       "      <th>Diluted - (Rs.)</th>\n",
       "      <td>2.53</td>\n",
       "      <td>4.86</td>\n",
       "    </tr>\n",
       "    <tr>\n",
       "      <th>Dividend per share (Rs.)</th>\n",
       "      <td>5.35</td>\n",
       "      <td>4</td>\n",
       "    </tr>\n",
       "  </tbody>\n",
       "</table>\n",
       "</div>"
      ],
      "text/plain": [
       "                                                        2023      2022\n",
       "For the year ended 31st March                                         \n",
       "NaN                                                 Rs. '000  Rs. '000\n",
       "Revenue                                               608270    497642\n",
       "Cost of sales                                         467357    379217\n",
       "Direct interest cost                                     NaN       NaN\n",
       "Gross profit                                          140913    118425\n",
       "Group dividend                                       5897496   5145509\n",
       "Other income                                             NaN     13111\n",
       "Distribution expenses                                    NaN       NaN\n",
       "Administrative expenses                               721291    257512\n",
       "Other expenses                                           306      6089\n",
       "Results from operating activities                    6759394   5528468\n",
       "Finance income                                        609056    188410\n",
       "Finance cost                                         5276184   2219372\n",
       "Net finance cost                                     4667128   2030962\n",
       "Change in fair value of investment properties           5900      9250\n",
       "Share of profit of equity accounted investees (...       NaN       NaN\n",
       "Value added tax on financial services                    NaN       NaN\n",
       "Profit before tax                                    2098166   3506756\n",
       "Tax expense                                           197146    139979\n",
       "Profit for the year                                  1901020   3646735\n",
       "Profit for the period attributable to:                   NaN       NaN\n",
       "Owners of the parent                                 1901020   3646735\n",
       "Non-controlling interest                                 NaN       NaN\n",
       "Profit for the year                                  1901020   3646735\n",
       "Earnings per share                                       NaN       NaN\n",
       "Basic - (Rs.)                                           2.53      4.86\n",
       "Diluted - (Rs.)                                         2.53      4.86\n",
       "Dividend per share (Rs.)                                5.35         4"
      ]
     },
     "execution_count": 2,
     "metadata": {},
     "output_type": "execute_result"
    }
   ],
   "source": [
    "income = pd.read_excel('STATEMENT OF PROFIT OR LOSS.xlsx', index_col=0)\n",
    "income"
   ]
  },
  {
   "cell_type": "code",
   "execution_count": 3,
   "id": "1d0c004a",
   "metadata": {},
   "outputs": [
    {
     "data": {
      "text/html": [
       "<div>\n",
       "<style scoped>\n",
       "    .dataframe tbody tr th:only-of-type {\n",
       "        vertical-align: middle;\n",
       "    }\n",
       "\n",
       "    .dataframe tbody tr th {\n",
       "        vertical-align: top;\n",
       "    }\n",
       "\n",
       "    .dataframe thead th {\n",
       "        text-align: right;\n",
       "    }\n",
       "</style>\n",
       "<table border=\"1\" class=\"dataframe\">\n",
       "  <thead>\n",
       "    <tr style=\"text-align: right;\">\n",
       "      <th></th>\n",
       "      <th>2023(Rs.'000)</th>\n",
       "      <th>2022(Rs.'000)</th>\n",
       "    </tr>\n",
       "    <tr>\n",
       "      <th>For the year ended 31st March</th>\n",
       "      <th></th>\n",
       "      <th></th>\n",
       "    </tr>\n",
       "  </thead>\n",
       "  <tbody>\n",
       "    <tr>\n",
       "      <th>Property, plant &amp; equipment</th>\n",
       "      <td>202883.0</td>\n",
       "      <td>100095.0</td>\n",
       "    </tr>\n",
       "    <tr>\n",
       "      <th>Right-of-use assets</th>\n",
       "      <td>127664.0</td>\n",
       "      <td>191497.0</td>\n",
       "    </tr>\n",
       "    <tr>\n",
       "      <th>Investment properties</th>\n",
       "      <td>94750.0</td>\n",
       "      <td>88850.0</td>\n",
       "    </tr>\n",
       "    <tr>\n",
       "      <th>Intangible assets</th>\n",
       "      <td>65245.0</td>\n",
       "      <td>74310.0</td>\n",
       "    </tr>\n",
       "    <tr>\n",
       "      <th>Investments in subsidiaries</th>\n",
       "      <td>39630538.0</td>\n",
       "      <td>38903712.0</td>\n",
       "    </tr>\n",
       "    <tr>\n",
       "      <th>Investments in equity accounted investees</th>\n",
       "      <td>1504863.0</td>\n",
       "      <td>1504863.0</td>\n",
       "    </tr>\n",
       "    <tr>\n",
       "      <th>Other non-current financial assets</th>\n",
       "      <td>49563.0</td>\n",
       "      <td>57125.0</td>\n",
       "    </tr>\n",
       "    <tr>\n",
       "      <th>Deferred tax assets</th>\n",
       "      <td>68643.0</td>\n",
       "      <td>14771.0</td>\n",
       "    </tr>\n",
       "    <tr>\n",
       "      <th>Amounts due from subsidiaries</th>\n",
       "      <td>NaN</td>\n",
       "      <td>610000.0</td>\n",
       "    </tr>\n",
       "    <tr>\n",
       "      <th>Inventories</th>\n",
       "      <td>36535.0</td>\n",
       "      <td>7493.0</td>\n",
       "    </tr>\n",
       "    <tr>\n",
       "      <th>Amounts due from subsidiaries</th>\n",
       "      <td>4264131.0</td>\n",
       "      <td>3897840.0</td>\n",
       "    </tr>\n",
       "    <tr>\n",
       "      <th>Total Non-current Assets</th>\n",
       "      <td>41744149.0</td>\n",
       "      <td>41545223.0</td>\n",
       "    </tr>\n",
       "    <tr>\n",
       "      <th>Amounts due from equity accounted investees</th>\n",
       "      <td>986.0</td>\n",
       "      <td>1190.0</td>\n",
       "    </tr>\n",
       "    <tr>\n",
       "      <th>Trade and other receivables</th>\n",
       "      <td>36558.0</td>\n",
       "      <td>32907.0</td>\n",
       "    </tr>\n",
       "    <tr>\n",
       "      <th>Other current assets</th>\n",
       "      <td>56203.0</td>\n",
       "      <td>31555.0</td>\n",
       "    </tr>\n",
       "    <tr>\n",
       "      <th>Income tax recoverable</th>\n",
       "      <td>NaN</td>\n",
       "      <td>68645.0</td>\n",
       "    </tr>\n",
       "    <tr>\n",
       "      <th>Other current financial assets</th>\n",
       "      <td>14891.0</td>\n",
       "      <td>7706.0</td>\n",
       "    </tr>\n",
       "    <tr>\n",
       "      <th>Short term deposits</th>\n",
       "      <td>1489160.0</td>\n",
       "      <td>254515.0</td>\n",
       "    </tr>\n",
       "    <tr>\n",
       "      <th>Cash in hand and at bank</th>\n",
       "      <td>1144208.0</td>\n",
       "      <td>697773.0</td>\n",
       "    </tr>\n",
       "    <tr>\n",
       "      <th>Total Current Assets</th>\n",
       "      <td>7042672.0</td>\n",
       "      <td>4999624.0</td>\n",
       "    </tr>\n",
       "    <tr>\n",
       "      <th>Total Assets</th>\n",
       "      <td>48786821.0</td>\n",
       "      <td>46544847.0</td>\n",
       "    </tr>\n",
       "    <tr>\n",
       "      <th>Stated capital</th>\n",
       "      <td>1575000.0</td>\n",
       "      <td>1575000.0</td>\n",
       "    </tr>\n",
       "    <tr>\n",
       "      <th>Capital reserves</th>\n",
       "      <td>13226.0</td>\n",
       "      <td>13226.0</td>\n",
       "    </tr>\n",
       "    <tr>\n",
       "      <th>Revenue reserves</th>\n",
       "      <td>12871201.0</td>\n",
       "      <td>15027783.0</td>\n",
       "    </tr>\n",
       "    <tr>\n",
       "      <th>Total Equity</th>\n",
       "      <td>14459427.0</td>\n",
       "      <td>16616009.0</td>\n",
       "    </tr>\n",
       "    <tr>\n",
       "      <th>Interest-bearing borrowings</th>\n",
       "      <td>13185518.0</td>\n",
       "      <td>18265278.0</td>\n",
       "    </tr>\n",
       "    <tr>\n",
       "      <th>Employee benefit obligations</th>\n",
       "      <td>1560016.0</td>\n",
       "      <td>1298429.0</td>\n",
       "    </tr>\n",
       "    <tr>\n",
       "      <th>Total Non-current liabilities</th>\n",
       "      <td>14745534.0</td>\n",
       "      <td>19563707.0</td>\n",
       "    </tr>\n",
       "    <tr>\n",
       "      <th>Trade and other payables</th>\n",
       "      <td>4843225.0</td>\n",
       "      <td>1268500.0</td>\n",
       "    </tr>\n",
       "    <tr>\n",
       "      <th>Other current liabilities</th>\n",
       "      <td>67602.0</td>\n",
       "      <td>29704.0</td>\n",
       "    </tr>\n",
       "    <tr>\n",
       "      <th>Amounts due to subsidiaries</th>\n",
       "      <td>305479.0</td>\n",
       "      <td>672807.0</td>\n",
       "    </tr>\n",
       "    <tr>\n",
       "      <th>Amounts due to equity accounted investees</th>\n",
       "      <td>385.0</td>\n",
       "      <td>322.0</td>\n",
       "    </tr>\n",
       "    <tr>\n",
       "      <th>Income tax payable</th>\n",
       "      <td>118116.0</td>\n",
       "      <td>NaN</td>\n",
       "    </tr>\n",
       "    <tr>\n",
       "      <th>Current portion of long term interest-bearing borrowings</th>\n",
       "      <td>9080337.0</td>\n",
       "      <td>5361853.0</td>\n",
       "    </tr>\n",
       "    <tr>\n",
       "      <th>Short-term interest-bearing borrowings</th>\n",
       "      <td>5166716.0</td>\n",
       "      <td>3031945.0</td>\n",
       "    </tr>\n",
       "    <tr>\n",
       "      <th>Total Current liabilities</th>\n",
       "      <td>19581860.0</td>\n",
       "      <td>10365131.0</td>\n",
       "    </tr>\n",
       "    <tr>\n",
       "      <th>Total Liabilities</th>\n",
       "      <td>34327394.0</td>\n",
       "      <td>29928838.0</td>\n",
       "    </tr>\n",
       "    <tr>\n",
       "      <th>Total Equity and Liabilities</th>\n",
       "      <td>48786821.0</td>\n",
       "      <td>46544847.0</td>\n",
       "    </tr>\n",
       "  </tbody>\n",
       "</table>\n",
       "</div>"
      ],
      "text/plain": [
       "                                                    2023(Rs.'000)  \\\n",
       "For the year ended 31st March                                       \n",
       "Property, plant & equipment                              202883.0   \n",
       "Right-of-use assets                                      127664.0   \n",
       "Investment properties                                     94750.0   \n",
       "Intangible assets                                         65245.0   \n",
       "Investments in subsidiaries                            39630538.0   \n",
       "Investments in equity accounted investees               1504863.0   \n",
       "Other non-current financial assets                        49563.0   \n",
       "Deferred tax assets                                       68643.0   \n",
       "Amounts due from subsidiaries                                 NaN   \n",
       "Inventories                                               36535.0   \n",
       "Amounts due from subsidiaries                           4264131.0   \n",
       "Total Non-current Assets                               41744149.0   \n",
       "Amounts due from equity accounted investees                 986.0   \n",
       "Trade and other receivables                               36558.0   \n",
       "Other current assets                                      56203.0   \n",
       "Income tax recoverable                                        NaN   \n",
       "Other current financial assets                            14891.0   \n",
       "Short term deposits                                     1489160.0   \n",
       "Cash in hand and at bank                                1144208.0   \n",
       "Total Current Assets                                    7042672.0   \n",
       "Total Assets                                           48786821.0   \n",
       "Stated capital                                          1575000.0   \n",
       "Capital reserves                                          13226.0   \n",
       "Revenue reserves                                       12871201.0   \n",
       "Total Equity                                           14459427.0   \n",
       "Interest-bearing borrowings                            13185518.0   \n",
       "Employee benefit obligations                            1560016.0   \n",
       "Total Non-current liabilities                          14745534.0   \n",
       "Trade and other payables                                4843225.0   \n",
       "Other current liabilities                                 67602.0   \n",
       "Amounts due to subsidiaries                              305479.0   \n",
       "Amounts due to equity accounted investees                   385.0   \n",
       "Income tax payable                                       118116.0   \n",
       "Current portion of long term interest-bearing b...      9080337.0   \n",
       "Short-term interest-bearing borrowings                  5166716.0   \n",
       "Total Current liabilities                              19581860.0   \n",
       "Total Liabilities                                      34327394.0   \n",
       "Total Equity and Liabilities                           48786821.0   \n",
       "\n",
       "                                                    2022(Rs.'000)  \n",
       "For the year ended 31st March                                      \n",
       "Property, plant & equipment                              100095.0  \n",
       "Right-of-use assets                                      191497.0  \n",
       "Investment properties                                     88850.0  \n",
       "Intangible assets                                         74310.0  \n",
       "Investments in subsidiaries                            38903712.0  \n",
       "Investments in equity accounted investees               1504863.0  \n",
       "Other non-current financial assets                        57125.0  \n",
       "Deferred tax assets                                       14771.0  \n",
       "Amounts due from subsidiaries                            610000.0  \n",
       "Inventories                                                7493.0  \n",
       "Amounts due from subsidiaries                           3897840.0  \n",
       "Total Non-current Assets                               41545223.0  \n",
       "Amounts due from equity accounted investees                1190.0  \n",
       "Trade and other receivables                               32907.0  \n",
       "Other current assets                                      31555.0  \n",
       "Income tax recoverable                                    68645.0  \n",
       "Other current financial assets                             7706.0  \n",
       "Short term deposits                                      254515.0  \n",
       "Cash in hand and at bank                                 697773.0  \n",
       "Total Current Assets                                    4999624.0  \n",
       "Total Assets                                           46544847.0  \n",
       "Stated capital                                          1575000.0  \n",
       "Capital reserves                                          13226.0  \n",
       "Revenue reserves                                       15027783.0  \n",
       "Total Equity                                           16616009.0  \n",
       "Interest-bearing borrowings                            18265278.0  \n",
       "Employee benefit obligations                            1298429.0  \n",
       "Total Non-current liabilities                          19563707.0  \n",
       "Trade and other payables                                1268500.0  \n",
       "Other current liabilities                                 29704.0  \n",
       "Amounts due to subsidiaries                              672807.0  \n",
       "Amounts due to equity accounted investees                   322.0  \n",
       "Income tax payable                                            NaN  \n",
       "Current portion of long term interest-bearing b...      5361853.0  \n",
       "Short-term interest-bearing borrowings                  3031945.0  \n",
       "Total Current liabilities                              10365131.0  \n",
       "Total Liabilities                                      29928838.0  \n",
       "Total Equity and Liabilities                           46544847.0  "
      ]
     },
     "execution_count": 3,
     "metadata": {},
     "output_type": "execute_result"
    }
   ],
   "source": [
    "balance = pd.read_excel('Financial_Position.xlsx',index_col=0)\n",
    "balance"
   ]
  },
  {
   "cell_type": "code",
   "execution_count": 4,
   "id": "e40e8193",
   "metadata": {},
   "outputs": [
    {
     "name": "stdout",
     "output_type": "stream",
     "text": [
      "Index([                                                          nan,\n",
      "                                                           'Revenue',\n",
      "                                                    'Cost of sales ',\n",
      "                                             'Direct interest cost ',\n",
      "                                                     'Gross profit ',\n",
      "                                                   'Group dividend ',\n",
      "                                                     'Other income ',\n",
      "                                            'Distribution expenses ',\n",
      "                                          'Administrative expenses ',\n",
      "                                                   'Other expenses ',\n",
      "                                'Results from operating activities ',\n",
      "                                                    'Finance income',\n",
      "                                                     'Finance cost ',\n",
      "                                                 'Net finance cost ',\n",
      "                    'Change in fair value of investment properties ',\n",
      "       'Share of profit of equity accounted investees (net of tax) ',\n",
      "                             'Value added tax on financial services',\n",
      "                                                'Profit before tax ',\n",
      "                                                      'Tax expense ',\n",
      "                                              'Profit for the year ',\n",
      "                            'Profit for the period attributable to:',\n",
      "                                              'Owners of the parent',\n",
      "                                         'Non-controlling interest ',\n",
      "                                              'Profit for the year ',\n",
      "                                                'Earnings per share',\n",
      "                                                     'Basic - (Rs.)',\n",
      "                                                   'Diluted - (Rs.)',\n",
      "                                         'Dividend per share (Rs.) '],\n",
      "      dtype='object', name='For the year ended 31st March')\n"
     ]
    }
   ],
   "source": [
    "print(income.index)"
   ]
  },
  {
   "cell_type": "code",
   "execution_count": 5,
   "id": "ab432182",
   "metadata": {},
   "outputs": [
    {
     "name": "stdout",
     "output_type": "stream",
     "text": [
      "Index(['Property, plant & equipment', 'Right-of-use assets',\n",
      "       'Investment properties', 'Intangible assets ',\n",
      "       'Investments in subsidiaries ',\n",
      "       'Investments in equity accounted investees ',\n",
      "       'Other non-current financial assets', 'Deferred tax assets ',\n",
      "       'Amounts due from subsidiaries ', 'Inventories',\n",
      "       'Amounts due from subsidiaries', 'Total Non-current Assets',\n",
      "       'Amounts due from equity accounted investees',\n",
      "       'Trade and other receivables ', 'Other current assets ',\n",
      "       'Income tax recoverable ', 'Other current financial assets ',\n",
      "       'Short term deposits', 'Cash in hand and at bank',\n",
      "       'Total Current Assets', 'Total Assets', 'Stated capital',\n",
      "       'Capital reserves', 'Revenue reserves ', 'Total Equity',\n",
      "       'Interest-bearing borrowings ', 'Employee benefit obligations',\n",
      "       'Total Non-current liabilities', 'Trade and other payables',\n",
      "       'Other current liabilities', 'Amounts due to subsidiaries',\n",
      "       'Amounts due to equity accounted investees ', 'Income tax payable ',\n",
      "       'Current portion of long term interest-bearing borrowings',\n",
      "       'Short-term interest-bearing borrowings', 'Total Current liabilities',\n",
      "       'Total Liabilities', 'Total Equity and Liabilities'],\n",
      "      dtype='object', name='For the year ended 31st March')\n"
     ]
    }
   ],
   "source": [
    "print(balance.index)"
   ]
  },
  {
   "cell_type": "markdown",
   "id": "53c708e9",
   "metadata": {},
   "source": [
    "### Performance ratios"
   ]
  },
  {
   "cell_type": "code",
   "execution_count": 6,
   "id": "72affb1c",
   "metadata": {},
   "outputs": [
    {
     "name": "stdout",
     "output_type": "stream",
     "text": [
      "The GP of 2023 is = Rs 140913\n",
      "The GP of 2022 is = Rs 118425\n",
      "The TR of 2023 is = Rs 608270\n",
      "The TR of 2022 is = Rs 497642\n"
     ]
    }
   ],
   "source": [
    "#Gross profit and total revenue\n",
    "\n",
    "GP = income.loc['Gross profit ']\n",
    "a,b = GP\n",
    "print('The GP of 2023 is = Rs',a)\n",
    "print('The GP of 2022 is = Rs',b)\n",
    "\n",
    "TR = income.loc['Revenue']\n",
    "c,d = TR\n",
    "print('The TR of 2023 is = Rs',c)\n",
    "print('The TR of 2022 is = Rs',d)"
   ]
  },
  {
   "cell_type": "code",
   "execution_count": 7,
   "id": "6b45623a",
   "metadata": {},
   "outputs": [
    {
     "name": "stdout",
     "output_type": "stream",
     "text": [
      "The GPM of 2023 is =  23.17\n",
      "The GPM of 2022 is =  23.8\n"
     ]
    }
   ],
   "source": [
    "#Gross profit margin\n",
    "\n",
    "GPM = GP * 100 / TR\n",
    "a,b = GPM\n",
    "print('The GPM of 2023 is = ',round(a,2))\n",
    "print('The GPM of 2022 is = ',round(b,2))"
   ]
  },
  {
   "cell_type": "code",
   "execution_count": 8,
   "id": "c2f629b7",
   "metadata": {},
   "outputs": [
    {
     "data": {
      "image/png": "[encoded data removed]",
      "text/plain": [
       "<Figure size 432x288 with 1 Axes>"
      ]
     },
     "metadata": {
      "needs_background": "light"
     },
     "output_type": "display_data"
    }
   ],
   "source": [
    "a = 23.17  \n",
    "b = 23.80  \n",
    "\n",
    "# Labels for the bars\n",
    "years = ['2023', '2022']\n",
    "\n",
    "# Values for the bars\n",
    "gpm_values = [a, b]\n",
    "\n",
    "# Create a bar chart\n",
    "plt.bar(years, gpm_values, color=['goldenrod', 'gold'])\n",
    "plt.xlabel('Year')\n",
    "plt.ylabel('Gross Profit Margin (GPM)')\n",
    "plt.title('Gross Profit Margin (GPM) for 2023 and 2022')\n",
    "plt.ylim(0, max(gpm_values) + 10)  # Set the y-axis range as needed\n",
    "\n",
    "# Display the GPM values on top of the bars\n",
    "for i, v in enumerate(gpm_values):\n",
    "    plt.text(i, v + 1, str(v), ha='center', va='bottom')\n",
    "\n",
    "# Show the chart\n",
    "plt.show()"
   ]
  },
  {
   "cell_type": "code",
   "execution_count": 9,
   "id": "40b793bd",
   "metadata": {},
   "outputs": [
    {
     "name": "stdout",
     "output_type": "stream",
     "text": [
      "The OP of 2023 is =  2098166\n",
      "The OP of 2022 is =  3506756\n"
     ]
    }
   ],
   "source": [
    "#Operating profit\n",
    "\n",
    "OP = income.loc['Profit before tax ']\n",
    "a,b = OP\n",
    "print('The OP of 2023 is = ',a)\n",
    "print('The OP of 2022 is = ',b)"
   ]
  },
  {
   "cell_type": "code",
   "execution_count": 10,
   "id": "1915e211",
   "metadata": {},
   "outputs": [
    {
     "name": "stdout",
     "output_type": "stream",
     "text": [
      "The OPM of 2022 is =  2098166\n",
      "The OPM of 2023 is =  3506756\n"
     ]
    }
   ],
   "source": [
    "OPM = ( OP / TR ) * 100\n",
    "a,b = OP\n",
    "print('The OPM of 2022 is = ',a)\n",
    "print('The OPM of 2023 is = ',b)"
   ]
  },
  {
   "cell_type": "code",
   "execution_count": 11,
   "id": "5db47109",
   "metadata": {},
   "outputs": [
    {
     "data": {
      "image/png": "[encoded data removed]",
      "text/plain": [
       "<Figure size 432x576 with 1 Axes>"
      ]
     },
     "metadata": {
      "needs_background": "light"
     },
     "output_type": "display_data"
    }
   ],
   "source": [
    "a = 2098166\n",
    "b = 3506756\n",
    "\n",
    "# Labels for the bars\n",
    "years = ['2023', '2022']\n",
    "\n",
    "# Values for the bars\n",
    "opm_values = [a, b]\n",
    "\n",
    "# Create a bar chart with a larger figure size\n",
    "plt.figure(figsize=(6, 8))  # You can adjust the size as needed (width, height)\n",
    "\n",
    "# Create the bar chart\n",
    "plt.bar(years, opm_values, color=['yellowgreen', 'olivedrab'])\n",
    "plt.xlabel('Year')\n",
    "plt.ylabel('Operating profit Margin (OPM)')\n",
    "plt.title('Operating profit Margin (OPM) for 2023 and 2022')\n",
    "\n",
    "# Display the values on top of the bars\n",
    "for i, v in enumerate(opm_values):\n",
    "    plt.text(i, v + 1, str(v), ha='center', va='bottom')\n",
    "\n",
    "# Show the chart\n",
    "plt.show()"
   ]
  },
  {
   "cell_type": "code",
   "execution_count": 12,
   "id": "6eda1fa2",
   "metadata": {},
   "outputs": [
    {
     "name": "stdout",
     "output_type": "stream",
     "text": [
      "The NP of 2023 is =  1901020\n",
      "The NP of 2022 is =  3646735\n"
     ]
    }
   ],
   "source": [
    "#Net profit\n",
    "\n",
    "NP = [1901020,3646735]\n",
    "a,b = NP \n",
    "print('The NP of 2023 is = ',a)\n",
    "print('The NP of 2022 is = ',b)"
   ]
  },
  {
   "cell_type": "code",
   "execution_count": 13,
   "id": "36b00c68",
   "metadata": {},
   "outputs": [
    {
     "name": "stdout",
     "output_type": "stream",
     "text": [
      "The NPM of 2023 is =  312.53\n",
      "The NPM of 2022 is =  732.8\n"
     ]
    }
   ],
   "source": [
    "NPM = (NP / TR ) * 100\n",
    "a,b = NPM\n",
    "print('The NPM of 2023 is = ',round(a,2))\n",
    "print('The NPM of 2022 is = ',round(b,2))"
   ]
  },
  {
   "cell_type": "code",
   "execution_count": 14,
   "id": "ec868025",
   "metadata": {},
   "outputs": [
    {
     "data": {
      "image/png": "[encoded data removed]",
      "text/plain": [
       "<Figure size 432x576 with 1 Axes>"
      ]
     },
     "metadata": {
      "needs_background": "light"
     },
     "output_type": "display_data"
    }
   ],
   "source": [
    "a = 312.53\n",
    "b = 732.8\n",
    "\n",
    "# Labels for the bars\n",
    "years = ['2023', '2022']\n",
    "\n",
    "# Values for the bars\n",
    "npm_values = [a, b]\n",
    "\n",
    "# Create a bar chart with a larger figure size\n",
    "plt.figure(figsize=(6, 8))  # You can adjust the size as needed (width, height)\n",
    "\n",
    "# Create the bar chart\n",
    "plt.bar(years, npm_values, color=['darksalmon', 'tomato'])\n",
    "plt.xlabel('Year')\n",
    "plt.ylabel('Net Profit Margin (NPM)')\n",
    "plt.title('Net Profit Margin (NPM) for 2023 and 2022')\n",
    "\n",
    "# Display the values on top of the bars\n",
    "for i, v in enumerate(npm_values):\n",
    "    plt.text(i, v + 1, str(v), ha='center', va='bottom')\n",
    "\n",
    "# Show the chart\n",
    "plt.show()"
   ]
  },
  {
   "cell_type": "markdown",
   "id": "d6302495",
   "metadata": {},
   "source": [
    "### Return on capital ratios"
   ]
  },
  {
   "cell_type": "code",
   "execution_count": 15,
   "id": "c8981558",
   "metadata": {},
   "outputs": [
    {
     "name": "stdout",
     "output_type": "stream",
     "text": [
      "The Return on capital employed of 2023 is =  7.18\n",
      "The Return on capital employed of 2022 is =  9.69\n"
     ]
    }
   ],
   "source": [
    "#Return on capital employed\n",
    "Operating_profit = np.array(income.loc['Profit before tax '])\n",
    "Capital_employed = np.array(balance.loc['Total Assets']-balance.loc['Total Current liabilities'])\n",
    "a,b =(Operating_profit/Capital_employed)*100\n",
    "\n",
    "print('The Return on capital employed of 2023 is = ',round(a,2))\n",
    "print('The Return on capital employed of 2022 is = ',round(b,2))"
   ]
  },
  {
   "cell_type": "code",
   "execution_count": 16,
   "id": "a4fa241a",
   "metadata": {},
   "outputs": [
    {
     "data": {
      "image/png": "[encoded data removed]",
      "text/plain": [
       "<Figure size 432x576 with 1 Axes>"
      ]
     },
     "metadata": {
      "needs_background": "light"
     },
     "output_type": "display_data"
    }
   ],
   "source": [
    "a = 7.18\n",
    "b = 9.69\n",
    "\n",
    "# Labels for the bars\n",
    "years = ['2023', '2022']\n",
    "\n",
    "# Values for the bars\n",
    "roc_values = [a, b]\n",
    "\n",
    "plt.figure(figsize=(6, 8))  \n",
    "\n",
    "plt.bar(years, roc_values, color=['lightskyblue', 'royalblue'])\n",
    "plt.xlabel('Year')\n",
    "plt.ylabel('Return on capital employed')\n",
    "plt.title('Return on capital employed for 2023 and 2022')\n",
    "\n",
    "# Display the values on top of the bars\n",
    "for i, v in enumerate(roc_values):\n",
    "    plt.text(i, v+1, str(v), ha='center', va='bottom')\n",
    "\n",
    "# Show the chart\n",
    "plt.show()"
   ]
  },
  {
   "cell_type": "code",
   "execution_count": 17,
   "id": "b4d69439",
   "metadata": {},
   "outputs": [
    {
     "data": {
      "text/plain": [
       "array([11.440894140103078, 21.94711738540825], dtype=object)"
      ]
     },
     "execution_count": 17,
     "metadata": {},
     "output_type": "execute_result"
    }
   ],
   "source": [
    "#Return on equity\n",
    "net_profit = np.array(income.loc['Profit for the year '])\n",
    "equity = np.array(balance.loc['Total Equity'])\n",
    "\n",
    "a, b = ((net_profit[0] / equity[0])*100), ((net_profit[1] / equity[1])*100)\n",
    "\n",
    "a\n",
    "b"
   ]
  },
  {
   "cell_type": "code",
   "execution_count": 18,
   "id": "1609f35e",
   "metadata": {},
   "outputs": [
    {
     "data": {
      "image/png": "[encoded data removed]",
      "text/plain": [
       "<Figure size 432x576 with 1 Axes>"
      ]
     },
     "metadata": {
      "needs_background": "light"
     },
     "output_type": "display_data"
    }
   ],
   "source": [
    "a = 11.44\n",
    "b = 21.95\n",
    "\n",
    "# Labels for the bars\n",
    "years = ['2023', '2022']\n",
    "\n",
    "# Values for the bars\n",
    "roe_values = [a, b]\n",
    "\n",
    "plt.figure(figsize=(6, 8))  \n",
    "\n",
    "plt.bar(years, roe_values, color=['plum', 'purple'])\n",
    "plt.xlabel('Year')\n",
    "plt.ylabel('Return on equity')\n",
    "plt.title('Return on equity for 2023 and 2022')\n",
    "\n",
    "# Display the values on top of the bars\n",
    "for i, v in enumerate(roe_values):\n",
    "    plt.text(i, v, str(v), ha='center', va='bottom')\n",
    "\n",
    "# Show the chart\n",
    "plt.show()"
   ]
  },
  {
   "cell_type": "code",
   "execution_count": 19,
   "id": "56c80f97",
   "metadata": {},
   "outputs": [
    {
     "name": "stdout",
     "output_type": "stream",
     "text": [
      "The Return on capital employed of 2023 is =  4.3\n",
      "The Return on capital employed of 2022 is =  7.53\n"
     ]
    }
   ],
   "source": [
    "#Return assest turnover\n",
    "\n",
    "Operating_profit = np.array(income.loc['Profit before tax '])\n",
    "Average_Total_Assets = np.array(balance.loc['Total Assets'])\n",
    "a,b =(Operating_profit/Average_Total_Assets)*100\n",
    "\n",
    "print('The Return on capital employed of 2023 is = ',round(a,2))\n",
    "print('The Return on capital employed of 2022 is = ',round(b,2))"
   ]
  },
  {
   "cell_type": "code",
   "execution_count": 20,
   "id": "1d2fb4ed",
   "metadata": {},
   "outputs": [
    {
     "data": {
      "image/png": "[encoded data removed]",
      "text/plain": [
       "<Figure size 432x576 with 1 Axes>"
      ]
     },
     "metadata": {
      "needs_background": "light"
     },
     "output_type": "display_data"
    }
   ],
   "source": [
    "a = 4.3\n",
    "b = 7.53\n",
    "\n",
    "# Labels for the bars\n",
    "years = ['2023', '2022']\n",
    "\n",
    "# Values for the bars\n",
    "rat_values = [a, b]\n",
    "\n",
    "plt.figure(figsize=(6, 8))  \n",
    "\n",
    "plt.bar(years, rat_values, color=['crimson', 'orangered'])\n",
    "plt.xlabel('Year')\n",
    "plt.ylabel('Return assest turnover')\n",
    "plt.title('Return assest turnover for 2023 and 2022')\n",
    "\n",
    "# Display the values on top of the bars\n",
    "for i, v in enumerate(rat_values):\n",
    "    plt.text(i, v, str(v), ha='center', va='bottom')\n",
    "\n",
    "# Show the chart\n",
    "plt.show()"
   ]
  },
  {
   "cell_type": "markdown",
   "id": "0d247994",
   "metadata": {},
   "source": [
    "### Activity ratios"
   ]
  },
  {
   "cell_type": "code",
   "execution_count": 21,
   "id": "580690e6",
   "metadata": {},
   "outputs": [
    {
     "name": "stdout",
     "output_type": "stream",
     "text": [
      "The Assest turnover of 2023 is =  1.25\n",
      "The Assest turnover of 2022 is =  1.07\n"
     ]
    }
   ],
   "source": [
    "#Assest turnover\n",
    "\n",
    "TR = np.array(income.loc['Revenue'])\n",
    "TA = np.array(balance.loc['Total Assets'])\n",
    "a,b =(TR/TA)*100\n",
    "\n",
    "print('The Assest turnover of 2023 is = ',round(a,2))\n",
    "print('The Assest turnover of 2022 is = ',round(b,2))"
   ]
  },
  {
   "cell_type": "code",
   "execution_count": 22,
   "id": "818c1236",
   "metadata": {},
   "outputs": [
    {
     "data": {
      "image/png": "[encoded data removed]",
      "text/plain": [
       "<Figure size 432x576 with 1 Axes>"
      ]
     },
     "metadata": {
      "needs_background": "light"
     },
     "output_type": "display_data"
    }
   ],
   "source": [
    "a = 1.25\n",
    "b = 1.07\n",
    "\n",
    "# Labels for the bars\n",
    "years = ['2023', '2022']\n",
    "\n",
    "# Values for the bars\n",
    "at_values = [a, b]\n",
    "\n",
    "plt.figure(figsize=(6, 8))  \n",
    "\n",
    "plt.bar(years, at_values, color=['silver', 'grey'])\n",
    "plt.xlabel('Year')\n",
    "plt.ylabel('Assest turnover')\n",
    "plt.title('Assest turnover for 2023 and 2022')\n",
    "\n",
    "# Display the values on top of the bars\n",
    "for i, v in enumerate(at_values):\n",
    "    plt.text(i, v, str(v), ha='center', va='bottom')\n",
    "\n",
    "# Show the chart\n",
    "plt.show()"
   ]
  },
  {
   "cell_type": "code",
   "execution_count": 23,
   "id": "c150f41d",
   "metadata": {},
   "outputs": [
    {
     "name": "stdout",
     "output_type": "stream",
     "text": [
      "The Non current asset turnover of 2023 is =  0.3\n",
      "The Non current asset turnover of 2022 is =  0.19\n"
     ]
    }
   ],
   "source": [
    "#Non current asset turnover\n",
    "\n",
    "TR = np.array(income.loc['Revenue'])\n",
    "Nc_in = np.array(balance.loc['Total Non-current Assets'] - (balance.loc['Investment properties'] \n",
    "                                                            + balance.loc['Investments in subsidiaries ']))\n",
    "\n",
    "a,b = TR/Nc_in\n",
    "\n",
    "print('The Non current asset turnover of 2023 is = ',round(a,2))\n",
    "print('The Non current asset turnover of 2022 is = ',round(b,2))"
   ]
  },
  {
   "cell_type": "code",
   "execution_count": 24,
   "id": "98184c82",
   "metadata": {},
   "outputs": [
    {
     "data": {
      "image/png": "[encoded data removed]",
      "text/plain": [
       "<Figure size 432x576 with 1 Axes>"
      ]
     },
     "metadata": {
      "needs_background": "light"
     },
     "output_type": "display_data"
    }
   ],
   "source": [
    "a = 0.3\n",
    "b = 0.19\n",
    "\n",
    "# Labels for the bars\n",
    "years = ['2023', '2022']\n",
    "\n",
    "# Values for the bars\n",
    "ncat_values = [a, b]\n",
    "\n",
    "plt.figure(figsize=(6, 8))  \n",
    "\n",
    "plt.bar(years, ncat_values, color=['peru', 'sienna'])\n",
    "plt.xlabel('Year')\n",
    "plt.ylabel('Non current asset turnover')\n",
    "plt.title('Non current asset turnover for 2023 and 2022')\n",
    "\n",
    "# Display the values on top of the bars\n",
    "for i, v in enumerate(ncat_values):\n",
    "    plt.text(i, v, str(v), ha='center', va='bottom')\n",
    "\n",
    "# Show the chart\n",
    "plt.show()"
   ]
  },
  {
   "cell_type": "code",
   "execution_count": 25,
   "id": "8fc7b6fb",
   "metadata": {},
   "outputs": [
    {
     "name": "stdout",
     "output_type": "stream",
     "text": [
      "The Inventory turnover of 2023 is =  0.23\n",
      "The Inventory turnover of 2022 is =  0.15\n"
     ]
    }
   ],
   "source": [
    "#Inventory turnover\n",
    "\n",
    "CS = np.array(income.loc['Cost of sales '])\n",
    "In = np.array(balance.loc['Inventories'])\n",
    "\n",
    "a,b = CS/Nc_in\n",
    "\n",
    "print('The Inventory turnover of 2023 is = ',round(a,2))\n",
    "print('The Inventory turnover of 2022 is = ',round(b,2))"
   ]
  },
  {
   "cell_type": "code",
   "execution_count": 26,
   "id": "407d573c",
   "metadata": {},
   "outputs": [
    {
     "data": {
      "image/png": "[encoded data removed]",
      "text/plain": [
       "<Figure size 432x576 with 1 Axes>"
      ]
     },
     "metadata": {
      "needs_background": "light"
     },
     "output_type": "display_data"
    }
   ],
   "source": [
    "a = 0.23\n",
    "b = 0.15\n",
    "\n",
    "# Labels for the bars\n",
    "years = ['2023', '2022']\n",
    "\n",
    "# Values for the bars\n",
    "int_values = [a, b]\n",
    "\n",
    "plt.figure(figsize=(6, 8))  \n",
    "\n",
    "plt.bar(years, int_values, color=['pink', 'hotpink'])\n",
    "plt.xlabel('Year')\n",
    "plt.ylabel('Inventory turnover')\n",
    "plt.title('Inventory turnover for 2023 and 2022')\n",
    "\n",
    "# Display the values on top of the bars\n",
    "for i, v in enumerate(int_values):\n",
    "    plt.text(i, v, str(v), ha='center', va='bottom')\n",
    "\n",
    "# Show the chart\n",
    "plt.show()"
   ]
  },
  {
   "cell_type": "markdown",
   "id": "bd84561b",
   "metadata": {},
   "source": [
    "### Liquidity ratios"
   ]
  },
  {
   "cell_type": "code",
   "execution_count": 30,
   "id": "2aa352de",
   "metadata": {},
   "outputs": [
    {
     "name": "stdout",
     "output_type": "stream",
     "text": [
      "The Current ratio of 2023 is =  0.36\n",
      "The Current ratio of 2022 is =  0.48\n"
     ]
    }
   ],
   "source": [
    "#Current ratio\n",
    "\n",
    "CA = np.array(balance.loc['Total Current Assets'])\n",
    "CL = np.array(balance.loc['Total Current liabilities'])\n",
    "\n",
    "a,b = CA/CL\n",
    "\n",
    "print('The Current ratio of 2023 is = ',round(a,2))\n",
    "print('The Current ratio of 2022 is = ',round(b,2))"
   ]
  },
  {
   "cell_type": "code",
   "execution_count": 34,
   "id": "89bb53a7",
   "metadata": {},
   "outputs": [
    {
     "data": {
      "image/png": "[encoded data removed]",
      "text/plain": [
       "<Figure size 432x576 with 1 Axes>"
      ]
     },
     "metadata": {
      "needs_background": "light"
     },
     "output_type": "display_data"
    }
   ],
   "source": [
    "a = 0.36\n",
    "b = 0.48\n",
    "\n",
    "# Labels for the bars\n",
    "years = ['2023', '2022']\n",
    "\n",
    "# Values for the bars\n",
    "cr_values = [a, b]\n",
    "\n",
    "plt.figure(figsize=(6, 8))  \n",
    "\n",
    "plt.bar(years, cr_values, color=['rebeccapurple','indigo'])\n",
    "plt.xlabel('Year')\n",
    "plt.ylabel('Current ratio')\n",
    "plt.title('Current ratio for 2023 and 2022')\n",
    "\n",
    "# Display the values on top of the bars\n",
    "for i, v in enumerate(cr_values):\n",
    "    plt.text(i, v, str(v), ha='center', va='bottom')\n",
    "\n",
    "# Show the chart\n",
    "plt.show()"
   ]
  },
  {
   "cell_type": "code",
   "execution_count": 35,
   "id": "e167c519",
   "metadata": {},
   "outputs": [
    {
     "name": "stdout",
     "output_type": "stream",
     "text": [
      "The Quick ratio of 2023 is =  0.36\n",
      "The Quick ratio of 2022 is =  0.48\n"
     ]
    }
   ],
   "source": [
    "#Quick ratio\n",
    "\n",
    "CI = np.array(balance.loc['Total Current Assets'] - balance.loc['Inventories'])\n",
    "CL = np.array(balance.loc['Total Current liabilities'])\n",
    "\n",
    "a,b = CI/CL\n",
    "\n",
    "print('The Quick ratio of 2023 is = ',round(a,2))\n",
    "print('The Quick ratio of 2022 is = ',round(b,2))"
   ]
  },
  {
   "cell_type": "code",
   "execution_count": 36,
   "id": "ccf13d86",
   "metadata": {},
   "outputs": [
    {
     "data": {
      "image/png": "[encoded data removed]",
      "text/plain": [
       "<Figure size 432x576 with 1 Axes>"
      ]
     },
     "metadata": {
      "needs_background": "light"
     },
     "output_type": "display_data"
    }
   ],
   "source": [
    "a = 0.36\n",
    "b = 0.48\n",
    "\n",
    "# Labels for the bars\n",
    "years = ['2023', '2022']\n",
    "\n",
    "# Values for the bars\n",
    "cr_values = [a, b]\n",
    "\n",
    "plt.figure(figsize=(6, 8))  \n",
    "\n",
    "plt.bar(years, cr_values, color=['mediumspringgreen','mediumseagreen'])\n",
    "plt.xlabel('Year')\n",
    "plt.ylabel('Quick ratio')\n",
    "plt.title('Quick ratio for 2023 and 2022')\n",
    "\n",
    "# Display the values on top of the bars\n",
    "for i, v in enumerate(cr_values):\n",
    "    plt.text(i, v, str(v), ha='center', va='bottom')\n",
    "\n",
    "# Show the chart\n",
    "plt.show()"
   ]
  },
  {
   "cell_type": "code",
   "execution_count": null,
   "id": "1ccbea11",
   "metadata": {},
   "outputs": [],
   "source": []
  }
 ],
 "metadata": {
  "kernelspec": {
   "display_name": "Python 3 (ipykernel)",
   "language": "python",
   "name": "python3"
  },
  "language_info": {
   "codemirror_mode": {
    "name": "ipython",
    "version": 3
   },
   "file_extension": ".py",
   "mimetype": "text/x-python",
   "name": "python",
   "nbconvert_exporter": "python",
   "pygments_lexer": "ipython3",
   "version": "3.9.12"
  }
 },
 "nbformat": 4,
 "nbformat_minor": 5
}
